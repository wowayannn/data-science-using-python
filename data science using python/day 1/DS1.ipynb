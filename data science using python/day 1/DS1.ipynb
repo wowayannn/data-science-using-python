{
 "cells": [
  {
   "cell_type": "code",
   "execution_count": 1,
   "id": "12ff4b9b-b8bf-4c01-a83b-61bee5f6d58e",
   "metadata": {},
   "outputs": [
    {
     "name": "stdout",
     "output_type": "stream",
     "text": [
      "20 <class 'int'>\n"
     ]
    }
   ],
   "source": [
    "a=20\n",
    "print(a,type(a))"
   ]
  },
  {
   "cell_type": "code",
   "execution_count": 2,
   "id": "489cb0dc-ebed-45a9-9175-53027d0f6800",
   "metadata": {},
   "outputs": [
    {
     "name": "stdout",
     "output_type": "stream",
     "text": [
      "20.5 <class 'float'>\n"
     ]
    }
   ],
   "source": [
    "a=20.5\n",
    "print(a,type(a))"
   ]
  },
  {
   "cell_type": "code",
   "execution_count": 3,
   "id": "d05f8ba4-5ba5-4168-8a98-a64285596ec7",
   "metadata": {},
   "outputs": [
    {
     "name": "stdout",
     "output_type": "stream",
     "text": [
      "Defaulting to user installation because normal site-packages is not writeableNote: you may need to restart the kernel to use updated packages.\n",
      "\n",
      "Collecting qrcode\n",
      "  Downloading qrcode-8.2-py3-none-any.whl.metadata (17 kB)\n",
      "Requirement already satisfied: colorama in c:\\programdata\\anaconda3\\lib\\site-packages (from qrcode) (0.4.6)\n",
      "Downloading qrcode-8.2-py3-none-any.whl (45 kB)\n",
      "Installing collected packages: qrcode\n",
      "Successfully installed qrcode-8.2\n"
     ]
    },
    {
     "name": "stderr",
     "output_type": "stream",
     "text": [
      "  WARNING: The script qr.exe is installed in 'C:\\Users\\ayan1\\AppData\\Roaming\\Python\\Python312\\Scripts' which is not on PATH.\n",
      "  Consider adding this directory to PATH or, if you prefer to suppress this warning, use --no-warn-script-location.\n"
     ]
    }
   ],
   "source": [
    "pip install qrcode"
   ]
  },
  {
   "cell_type": "code",
   "execution_count": 4,
   "id": "fc88c39a-333d-40fc-9d59-9f0baaf1c59f",
   "metadata": {},
   "outputs": [
    {
     "name": "stdout",
     "output_type": "stream",
     "text": [
      "(20+8j) <class 'complex'>\n"
     ]
    }
   ],
   "source": [
    "a=20 + 8j\n",
    "print(a,type(a))"
   ]
  },
  {
   "cell_type": "code",
   "execution_count": 5,
   "id": "e49898be-556a-4213-9f00-decc469dfbed",
   "metadata": {},
   "outputs": [],
   "source": [
    "#int, float , complex = Numerical"
   ]
  },
  {
   "cell_type": "code",
   "execution_count": 6,
   "id": "8b41ad33-4f64-4e44-942c-8e2f935f60a0",
   "metadata": {},
   "outputs": [
    {
     "name": "stdout",
     "output_type": "stream",
     "text": [
      "hello python <class 'str'>\n"
     ]
    }
   ],
   "source": [
    "a='hello python'\n",
    "print(a,type(a))"
   ]
  },
  {
   "cell_type": "code",
   "execution_count": 7,
   "id": "2138e168-3db8-4c9e-809f-5a32247bde78",
   "metadata": {},
   "outputs": [
    {
     "name": "stdout",
     "output_type": "stream",
     "text": [
      "(2, 34, 5, 5467) <class 'tuple'>\n"
     ]
    }
   ],
   "source": [
    "#tuple\n",
    "a= (2,34,5,5467)\n",
    "print(a,type(a))"
   ]
  },
  {
   "cell_type": "code",
   "execution_count": 8,
   "id": "b77d61f3-6413-462a-9aba-f4e4763d75d9",
   "metadata": {},
   "outputs": [
    {
     "name": "stdout",
     "output_type": "stream",
     "text": [
      "[2, 34, 5, 5467] <class 'list'>\n"
     ]
    }
   ],
   "source": [
    "a= [2,34,5,5467]\n",
    "print(a,type(a))"
   ]
  },
  {
   "cell_type": "code",
   "execution_count": 9,
   "id": "303e98af-46f9-46ab-9410-670b3d3694bf",
   "metadata": {},
   "outputs": [
    {
     "data": {
      "text/plain": [
       "5"
      ]
     },
     "execution_count": 9,
     "metadata": {},
     "output_type": "execute_result"
    }
   ],
   "source": [
    "a[2]"
   ]
  },
  {
   "cell_type": "code",
   "execution_count": 10,
   "id": "089bac4a-b4c8-45e8-9554-c06f0923f0b5",
   "metadata": {},
   "outputs": [],
   "source": [
    "a[2]=4000"
   ]
  },
  {
   "cell_type": "code",
   "execution_count": 11,
   "id": "6a4bf525-4af3-4b8f-992a-15db70812861",
   "metadata": {},
   "outputs": [
    {
     "data": {
      "text/plain": [
       "[2, 34, 4000, 5467]"
      ]
     },
     "execution_count": 11,
     "metadata": {},
     "output_type": "execute_result"
    }
   ],
   "source": [
    "a"
   ]
  },
  {
   "cell_type": "code",
   "execution_count": 12,
   "id": "4e0f5b3f-c32b-4981-b077-285e7a7731ae",
   "metadata": {},
   "outputs": [
    {
     "name": "stdout",
     "output_type": "stream",
     "text": [
      "5467\n"
     ]
    }
   ],
   "source": [
    "a= (2,34,5,5467)\n",
    "\n",
    "print(a[3])"
   ]
  },
  {
   "cell_type": "code",
   "execution_count": 13,
   "id": "50223ddb-3808-44d0-aff6-ddb9a202369e",
   "metadata": {},
   "outputs": [
    {
     "name": "stdout",
     "output_type": "stream",
     "text": [
      "(2, 34, 5, 900)\n"
     ]
    }
   ],
   "source": [
    "a=list(a)\n",
    "a[3]=900\n",
    "a=tuple(a)\n",
    "print(a)"
   ]
  },
  {
   "cell_type": "code",
   "execution_count": 15,
   "id": "2e002bd9-004a-47f5-b473-9721793fa85d",
   "metadata": {},
   "outputs": [
    {
     "name": "stdout",
     "output_type": "stream",
     "text": [
      "{'Name': 'aman', 'age': 23, 'address': 'delhi'} <class 'dict'>\n"
     ]
    }
   ],
   "source": [
    "a={'Name':'aman','age':23,'address':'delhi'}\n",
    "print(a,type(a))"
   ]
  },
  {
   "cell_type": "code",
   "execution_count": 17,
   "id": "a621ab5e-5de8-4069-9145-90d92b53165d",
   "metadata": {},
   "outputs": [
    {
     "name": "stdout",
     "output_type": "stream",
     "text": [
      "{'Name': 'aman', 'age': 23, 'address': 'noida'}\n"
     ]
    }
   ],
   "source": [
    "a['address']='noida'\n",
    "print(a)"
   ]
  },
  {
   "cell_type": "code",
   "execution_count": 19,
   "id": "52c432ef-2333-48f8-ad81-b392ce32a9d5",
   "metadata": {},
   "outputs": [
    {
     "name": "stdout",
     "output_type": "stream",
     "text": [
      "{'Name': 'aman kumar', 'age': 23, 'address': 'noida', 'name': 'aman kumar'}\n"
     ]
    }
   ],
   "source": [
    "a['Name']='aman kumar'\n",
    "print(a)\n"
   ]
  },
  {
   "cell_type": "code",
   "execution_count": 24,
   "id": "3dca0379-e7a2-4a4f-ae34-698e11f641f8",
   "metadata": {},
   "outputs": [
    {
     "name": "stdout",
     "output_type": "stream",
     "text": [
      "{'region': ['west', 'east', 'north', 'south'], 'sales': [345, 546, 453, 456], 'profit': [120, 200, 90, 78]}\n"
     ]
    }
   ],
   "source": [
    "data={'region':['west','east','north','south'],\n",
    "      'sales':[345,546,453,456],\n",
    "      'profit':[120,200,90,78]}\n",
    "print(data)"
   ]
  },
  {
   "cell_type": "code",
   "execution_count": 25,
   "id": "19a4fbdc-7e1f-4f19-80d1-18a6bdaa9d08",
   "metadata": {},
   "outputs": [],
   "source": [
    "import pandas as pd"
   ]
  },
  {
   "cell_type": "code",
   "execution_count": 29,
   "id": "da56b3b9-d4d1-4d5f-ad19-0d12430a715a",
   "metadata": {},
   "outputs": [],
   "source": [
    "table=pd.DataFrame(data)"
   ]
  },
  {
   "cell_type": "code",
   "execution_count": 30,
   "id": "0cba8181-5337-4240-9d74-da1cee38a37e",
   "metadata": {},
   "outputs": [
    {
     "data": {
      "text/html": [
       "<div>\n",
       "<style scoped>\n",
       "    .dataframe tbody tr th:only-of-type {\n",
       "        vertical-align: middle;\n",
       "    }\n",
       "\n",
       "    .dataframe tbody tr th {\n",
       "        vertical-align: top;\n",
       "    }\n",
       "\n",
       "    .dataframe thead th {\n",
       "        text-align: right;\n",
       "    }\n",
       "</style>\n",
       "<table border=\"1\" class=\"dataframe\">\n",
       "  <thead>\n",
       "    <tr style=\"text-align: right;\">\n",
       "      <th></th>\n",
       "      <th>region</th>\n",
       "      <th>sales</th>\n",
       "      <th>profit</th>\n",
       "    </tr>\n",
       "  </thead>\n",
       "  <tbody>\n",
       "    <tr>\n",
       "      <th>0</th>\n",
       "      <td>west</td>\n",
       "      <td>345</td>\n",
       "      <td>120</td>\n",
       "    </tr>\n",
       "    <tr>\n",
       "      <th>1</th>\n",
       "      <td>east</td>\n",
       "      <td>546</td>\n",
       "      <td>200</td>\n",
       "    </tr>\n",
       "    <tr>\n",
       "      <th>2</th>\n",
       "      <td>north</td>\n",
       "      <td>453</td>\n",
       "      <td>90</td>\n",
       "    </tr>\n",
       "    <tr>\n",
       "      <th>3</th>\n",
       "      <td>south</td>\n",
       "      <td>456</td>\n",
       "      <td>78</td>\n",
       "    </tr>\n",
       "  </tbody>\n",
       "</table>\n",
       "</div>"
      ],
      "text/plain": [
       "  region  sales  profit\n",
       "0   west    345     120\n",
       "1   east    546     200\n",
       "2  north    453      90\n",
       "3  south    456      78"
      ]
     },
     "execution_count": 30,
     "metadata": {},
     "output_type": "execute_result"
    }
   ],
   "source": [
    "table"
   ]
  },
  {
   "cell_type": "code",
   "execution_count": 31,
   "id": "2b748470-7163-4f8c-a56b-7139e223860d",
   "metadata": {},
   "outputs": [
    {
     "name": "stdout",
     "output_type": "stream",
     "text": [
      "True <class 'bool'>\n"
     ]
    }
   ],
   "source": [
    "a=True\n",
    "print(a,type(a))"
   ]
  },
  {
   "cell_type": "code",
   "execution_count": 32,
   "id": "fa21ac9c-328b-4310-811d-48b94dd7a842",
   "metadata": {},
   "outputs": [],
   "source": [
    "#salary = 56789\n",
    "#>=50:manager\n",
    "#>=30:jr manager\n",
    "#>=20:executive"
   ]
  },
  {
   "cell_type": "code",
   "execution_count": 33,
   "id": "6a535c1c-bab1-4e80-9f11-1eaed3088666",
   "metadata": {},
   "outputs": [
    {
     "name": "stdout",
     "output_type": "stream",
     "text": [
      "Manager\n"
     ]
    }
   ],
   "source": [
    "salary= 56789\n",
    "if salary >= 50000:\n",
    "    print('Manager')\n",
    "elif salary>= 30000:\n",
    "    print('jr manager')\n",
    "elif salary>= 20000:\n",
    "    print('executive')\n",
    "else:\n",
    "    print('intern')"
   ]
  },
  {
   "cell_type": "code",
   "execution_count": 34,
   "id": "eebe4064-f37d-4bf3-96d7-57b8ea470d0c",
   "metadata": {},
   "outputs": [
    {
     "data": {
      "text/plain": [
       "58092"
      ]
     },
     "execution_count": 34,
     "metadata": {},
     "output_type": "execute_result"
    }
   ],
   "source": [
    "import random \n",
    "random.randint(10000,60000)"
   ]
  },
  {
   "cell_type": "code",
   "execution_count": 41,
   "id": "5df76b57-6070-4510-9d92-a390d4b67ed1",
   "metadata": {},
   "outputs": [
    {
     "name": "stdout",
     "output_type": "stream",
     "text": [
      "[11412 39552 41511 56754 38968]\n"
     ]
    }
   ],
   "source": [
    "import numpy as np\n",
    "database_salary=np.random.randint(10000,60000,5)\n",
    "print(salary)"
   ]
  },
  {
   "cell_type": "code",
   "execution_count": 42,
   "id": "c26fb37d-45dd-4940-a414-535663f7d3ef",
   "metadata": {
    "collapsed": true,
    "jupyter": {
     "outputs_hidden": true
    }
   },
   "outputs": [
    {
     "name": "stdout",
     "output_type": "stream",
     "text": [
      "25139 executive\n",
      "18418 intern\n",
      "38750 jr manager\n",
      "38975 jr manager\n",
      "50147 Manager\n"
     ]
    }
   ],
   "source": [
    "for i in database_salary:\n",
    "    salary = i\n",
    "    if salary >= 50000:\n",
    "        print(i,'Manager')\n",
    "    elif salary>= 30000:\n",
    "        print(i,'jr manager')\n",
    "    elif salary>= 20000:\n",
    "        print(i,'executive')\n",
    "    else:\n",
    "        print(i,'intern')"
   ]
  },
  {
   "cell_type": "code",
   "execution_count": 47,
   "id": "ff441268-565c-4b08-b695-b5b2a224198b",
   "metadata": {},
   "outputs": [
    {
     "name": "stdout",
     "output_type": "stream",
     "text": [
      "Mon Jun 30 12:55:15 2025\n"
     ]
    }
   ],
   "source": [
    "import time\n",
    "for i in range(10):\n",
    "    print(time.asctime())\n",
    "    time.sleep(1)\n",
    "    display(clear=True)\n",
    "    "
   ]
  },
  {
   "cell_type": "code",
   "execution_count": 56,
   "id": "63cdb966-2272-407b-940e-48c464309ca9",
   "metadata": {},
   "outputs": [
    {
     "name": "stdin",
     "output_type": "stream",
     "text": [
      "enter your choice(1-10): 5\n"
     ]
    },
    {
     "name": "stdout",
     "output_type": "stream",
     "text": [
      "\n",
      "user choice: 5\n",
      "computer choice: 5\n",
      "user won , comp lose!!\n"
     ]
    }
   ],
   "source": [
    "import random\n",
    "comp_choice=random.randint(1,10)\n",
    "user_input=int(input('enter your choice(1-10):'))\n",
    "print(f'''\n",
    "user choice: {user_input}\n",
    "computer choice: {comp_choice}''')\n",
    "if user_input == comp_choice:\n",
    "    print('user won , comp lose!!')\n",
    "else:\n",
    "    print('better luck next time')"
   ]
  },
  {
   "cell_type": "code",
   "execution_count": 64,
   "id": "7103bdd6-64f3-4f11-81de-6eef8edfe03a",
   "metadata": {},
   "outputs": [
    {
     "name": "stdin",
     "output_type": "stream",
     "text": [
      "enter your choice(1-10): 5\n"
     ]
    },
    {
     "name": "stdout",
     "output_type": "stream",
     "text": [
      "\n",
      "    user choice: 5\n",
      "    computer choice: 10\n",
      "better luck next time\n"
     ]
    },
    {
     "name": "stdin",
     "output_type": "stream",
     "text": [
      "enter your choice(1-10): 3\n"
     ]
    },
    {
     "name": "stdout",
     "output_type": "stream",
     "text": [
      "\n",
      "    user choice: 3\n",
      "    computer choice: 4\n",
      "better luck next time\n"
     ]
    },
    {
     "name": "stdin",
     "output_type": "stream",
     "text": [
      "enter your choice(1-10): 6\n"
     ]
    },
    {
     "name": "stdout",
     "output_type": "stream",
     "text": [
      "\n",
      "    user choice: 6\n",
      "    computer choice: 10\n",
      "better luck next time\n"
     ]
    }
   ],
   "source": [
    "user_attempt=3\n",
    "for i in range(user_attempt):\n",
    "    comp_choice=random.randint(1,10)\n",
    "    user_input=int(input('enter your choice(1-10):'))\n",
    "    print(f'''\n",
    "    user choice: {user_input}\n",
    "    computer choice: {comp_choice}''')\n",
    "    if user_input == comp_choice:\n",
    "        print('user won , comp lose!!')\n",
    "    else:\n",
    "        print('better luck next time')\n",
    "        "
   ]
  },
  {
   "cell_type": "code",
   "execution_count": 65,
   "id": "02fdaa42-3de2-4703-81d9-8e6b53755af3",
   "metadata": {},
   "outputs": [
    {
     "ename": "SyntaxError",
     "evalue": "closing parenthesis ')' does not match opening parenthesis '{' on line 1 (148173165.py, line 8)",
     "output_type": "error",
     "traceback": [
      "\u001b[1;36m  Cell \u001b[1;32mIn[65], line 8\u001b[1;36m\u001b[0m\n\u001b[1;33m    options = {1:'''A) Sydney\u001b[0m\n\u001b[1;37m                     ^\u001b[0m\n\u001b[1;31mSyntaxError\u001b[0m\u001b[1;31m:\u001b[0m closing parenthesis ')' does not match opening parenthesis '{' on line 1\n"
     ]
    }
   ],
   "source": [
    "\n",
    "options= {1:'''\n",
    "Questions = {1:'What is the capital of Australia?',\n",
    "             2:'Who invented the telephone?',\n",
    "             3:'Which planet is known as the Red Planet?',\n",
    "             4:'In which year did India gain independence?',\n",
    "             5:'What is the largest organ in the human body?'}\n",
    "\n",
    "options = {1:'''A) Sydney\n",
    "B) Melbourne\n",
    "C) Canberra\n",
    "D) Perth''',\n",
    "           2:'''A) Albert Einstein\n",
    "B) Isaac Newton\n",
    "C) Alexander Graham Bell\n",
    "D) Thomas Edison''',\n",
    "           3:'''A) Earth\n",
    "B) Venus\n",
    "C) Jupiter\n",
    "D) Mars''',\n",
    "           4:'''A) 1945\n",
    "B) 1946\n",
    "C) 1947\n",
    "D) 1950''',\n",
    "           5:'''A) Liver\n",
    "B) Brain\n",
    "C) Skin\n",
    "D) Heart'''}\n",
    "\n",
    "\n",
    "correct_op = ['C','C','D','C','C']\n",
    "\n",
    "for i in range(1,len(Questions)+1):\n",
    "   print(f'Question {i}: ',Questions[i])\n",
    "  print(options[i])\n",
    "  user_choice = input('Enter your choice: ').upper()\n",
    "\n",
    "  correct_ans = correct_op[i-1]\n",
    "  # print(correct_ans)\n",
    "  if user_choice == correct_ans:\n",
    "    win_ammount += 10000\n",
    "    print('Correct Answer!!')\n",
    "    print(end = '\\n'*3)\n",
    "\n",
    "  else:\n",
    "    print('Better luck next time!!')\n",
    "    break\n",
    "\n",
    "\n",
    "print('Total Amount',win_ammount)"
   ]
  },
  {
   "cell_type": "code",
   "execution_count": 68,
   "id": "1b9f5957-4d72-4ac4-8b88-4763b0249118",
   "metadata": {},
   "outputs": [],
   "source": [
    "def say_hello(name):\n",
    "    print(f'hello {name},', 'how are you??')"
   ]
  },
  {
   "cell_type": "code",
   "execution_count": 69,
   "id": "55244103-30c9-4728-a62e-007ab490ab9c",
   "metadata": {},
   "outputs": [
    {
     "name": "stdout",
     "output_type": "stream",
     "text": [
      "hello ayan, how are you??\n"
     ]
    }
   ],
   "source": [
    "say_hello('ayan')"
   ]
  },
  {
   "cell_type": "code",
   "execution_count": 73,
   "id": "3dfc5c66-a218-4000-81d5-1c26c689505b",
   "metadata": {},
   "outputs": [],
   "source": [
    "def vote(age):\n",
    "    print(f'your age is {age}')\n",
    "    if age>=18:\n",
    "        print('you can vote')\n",
    "    else:\n",
    "        print('you can\"t vote')"
   ]
  },
  {
   "cell_type": "code",
   "execution_count": 74,
   "id": "30ecbcaf-70eb-45e7-8521-f93aa6f51c5f",
   "metadata": {},
   "outputs": [
    {
     "name": "stdout",
     "output_type": "stream",
     "text": [
      "your age is 15\n",
      "you can\"t vote\n"
     ]
    }
   ],
   "source": [
    "vote(15)"
   ]
  },
  {
   "cell_type": "code",
   "execution_count": 84,
   "id": "e7823a10-4b51-432a-87e8-6d4f743391eb",
   "metadata": {},
   "outputs": [
    {
     "name": "stdout",
     "output_type": "stream",
     "text": [
      "Defaulting to user installation because normal site-packages is not writeable\n",
      "Requirement already satisfied: gTTs in c:\\users\\ayan1\\appdata\\roaming\\python\\python312\\site-packages (2.5.4)\n",
      "Requirement already satisfied: requests<3,>=2.27 in c:\\programdata\\anaconda3\\lib\\site-packages (from gTTs) (2.32.3)\n",
      "Requirement already satisfied: click<8.2,>=7.1 in c:\\programdata\\anaconda3\\lib\\site-packages (from gTTs) (8.1.7)\n",
      "Requirement already satisfied: colorama in c:\\programdata\\anaconda3\\lib\\site-packages (from click<8.2,>=7.1->gTTs) (0.4.6)\n",
      "Requirement already satisfied: charset-normalizer<4,>=2 in c:\\programdata\\anaconda3\\lib\\site-packages (from requests<3,>=2.27->gTTs) (3.3.2)\n",
      "Requirement already satisfied: idna<4,>=2.5 in c:\\programdata\\anaconda3\\lib\\site-packages (from requests<3,>=2.27->gTTs) (3.7)\n",
      "Requirement already satisfied: urllib3<3,>=1.21.1 in c:\\programdata\\anaconda3\\lib\\site-packages (from requests<3,>=2.27->gTTs) (2.2.3)\n",
      "Requirement already satisfied: certifi>=2017.4.17 in c:\\programdata\\anaconda3\\lib\\site-packages (from requests<3,>=2.27->gTTs) (2025.4.26)\n",
      "Note: you may need to restart the kernel to use updated packages.\n"
     ]
    }
   ],
   "source": [
    "pip install gTTs"
   ]
  },
  {
   "cell_type": "code",
   "execution_count": 2,
   "id": "3ad0d04d-ad24-4d7a-9e68-cc01ad4d2494",
   "metadata": {},
   "outputs": [
    {
     "data": {
      "text/plain": [
       "<pygame.mixer.Channel at 0x1a131fdbe50>"
      ]
     },
     "execution_count": 2,
     "metadata": {},
     "output_type": "execute_result"
    }
   ],
   "source": [
    "from gtts import gTTS\n",
    "text = '''paytm par 50rs prapt hue.'''\n",
    "audio=gTTS(text)\n",
    "audio.save('paytm.mp3')\n",
    "import pygame as p\n",
    "p.init()\n",
    "music = p.mixer.Sound('paytm.mp3')\n",
    "music.play()"
   ]
  },
  {
   "cell_type": "code",
   "execution_count": 82,
   "id": "9916be3b-e5ac-4101-a488-2491d1434482",
   "metadata": {},
   "outputs": [],
   "source": [
    "#pip install pygame"
   ]
  },
  {
   "cell_type": "code",
   "execution_count": 9,
   "id": "f827836e-a999-42e6-a45b-3974c58e2171",
   "metadata": {},
   "outputs": [],
   "source": [
    "def sound_box(paisa,platform = 'paytm'):\n",
    "    text = f'''{platform} par {paisa} prapt hue.'''\n",
    "    audio=gTTS(text)\n",
    "    audio.save('paytm.mp3')\n",
    "    import pygame as p\n",
    "    p.init()\n",
    "    music = p.mixer.Sound('paytm.mp3')\n",
    "    music.play()"
   ]
  },
  {
   "cell_type": "code",
   "execution_count": 12,
   "id": "40c65534-4194-4e24-b056-ee50b8e15953",
   "metadata": {},
   "outputs": [],
   "source": [
    "sound_box(2850,'phonepe')"
   ]
  },
  {
   "cell_type": "code",
   "execution_count": null,
   "id": "5a831c79-ddf0-4030-aabd-ad3fee67611e",
   "metadata": {},
   "outputs": [],
   "source": []
  }
 ],
 "metadata": {
  "kernelspec": {
   "display_name": "Python [conda env:base] *",
   "language": "python",
   "name": "conda-base-py"
  },
  "language_info": {
   "codemirror_mode": {
    "name": "ipython",
    "version": 3
   },
   "file_extension": ".py",
   "mimetype": "text/x-python",
   "name": "python",
   "nbconvert_exporter": "python",
   "pygments_lexer": "ipython3",
   "version": "3.12.7"
  }
 },
 "nbformat": 4,
 "nbformat_minor": 5
}
