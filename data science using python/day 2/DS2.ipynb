{
 "cells": [
  {
   "cell_type": "code",
   "execution_count": 2,
   "id": "0e2e3cce-d3c7-4b2d-8ede-98279eb6ee89",
   "metadata": {},
   "outputs": [],
   "source": [
    "def check_palindrome(word):\n",
    "    return word"
   ]
  },
  {
   "cell_type": "code",
   "execution_count": 3,
   "id": "4b025001-ec33-4251-89c1-21aa25a8ce50",
   "metadata": {},
   "outputs": [
    {
     "data": {
      "text/plain": [
       "'ajay'"
      ]
     },
     "execution_count": 3,
     "metadata": {},
     "output_type": "execute_result"
    }
   ],
   "source": [
    "check_palindrome('ajay')"
   ]
  },
  {
   "cell_type": "code",
   "execution_count": 4,
   "id": "e7a533a6-41c5-46ba-b058-72422dec2e85",
   "metadata": {},
   "outputs": [
    {
     "data": {
      "text/plain": [
       "'ykcul'"
      ]
     },
     "execution_count": 4,
     "metadata": {},
     "output_type": "execute_result"
    }
   ],
   "source": [
    "a = 'lucky'\n",
    "a[::-1]"
   ]
  },
  {
   "cell_type": "code",
   "execution_count": 6,
   "id": "ac2baec9-ebdc-4b9e-8c35-3247f779b193",
   "metadata": {},
   "outputs": [
    {
     "name": "stdout",
     "output_type": "stream",
     "text": [
      "nitin is a palindrome\n"
     ]
    }
   ],
   "source": [
    "a = 'nitin'\n",
    "if a == a[::-1]:\n",
    "    print(f'{a} is a palindrome')\n",
    "else:\n",
    "    print(f'{a} not a palindrome')"
   ]
  },
  {
   "cell_type": "code",
   "execution_count": 13,
   "id": "e6dbe1b3-c1c6-491d-9212-52d5e4a91254",
   "metadata": {},
   "outputs": [],
   "source": [
    "def check_palindrome(word):\n",
    "    if type(word) == str:\n",
    "        word = word.upper()\n",
    "        if word == word[::-1]:\n",
    "            return 'palindrome'\n",
    "        else:\n",
    "            return 'not a palindrome'\n",
    "    else:\n",
    "        return 'invalid Data Type'"
   ]
  },
  {
   "cell_type": "code",
   "execution_count": 15,
   "id": "55c2ca73-c38a-4fda-bdd7-61f7f12ffbf4",
   "metadata": {},
   "outputs": [
    {
     "data": {
      "text/plain": [
       "'not a palindrome'"
      ]
     },
     "execution_count": 15,
     "metadata": {},
     "output_type": "execute_result"
    }
   ],
   "source": [
    "check_palindrome('dog')"
   ]
  },
  {
   "cell_type": "code",
   "execution_count": 10,
   "id": "20386001-887f-42d5-a744-2cdcbd98be66",
   "metadata": {},
   "outputs": [
    {
     "data": {
      "text/plain": [
       "'palindrome'"
      ]
     },
     "execution_count": 10,
     "metadata": {},
     "output_type": "execute_result"
    }
   ],
   "source": [
    "check_palindrome('nitin')"
   ]
  },
  {
   "cell_type": "code",
   "execution_count": 19,
   "id": "2ed13372-6dd8-4294-8c1f-ba3b2167bcf2",
   "metadata": {},
   "outputs": [],
   "source": [
    "def give_fibo(n):\n",
    "    fibo=[0,1]\n",
    "    for i in range(n-2):\n",
    "        last_num = fibo[-1]\n",
    "        second_last_num = fibo[-2]\n",
    "        next_num = last_num + second_last_num\n",
    "        fibo.append(next_num)\n",
    "    return fibo"
   ]
  },
  {
   "cell_type": "code",
   "execution_count": 22,
   "id": "3dce2f0c-0b0d-4805-a2a4-82413a244b18",
   "metadata": {},
   "outputs": [
    {
     "name": "stdout",
     "output_type": "stream",
     "text": [
      "[0, 1, 1, 2, 3, 5, 8, 13, 21, 34]\n"
     ]
    }
   ],
   "source": [
    "print(give_fibo(10))"
   ]
  },
  {
   "cell_type": "code",
   "execution_count": 25,
   "id": "2d638639-7e4f-40e9-bd1a-ab1576e0711b",
   "metadata": {},
   "outputs": [],
   "source": [
    "def check_prime(number):\n",
    "    for i in range(2,number):\n",
    "        if number % i == 0:\n",
    "            return 'not a Prime Number'\n",
    "            break\n",
    "    else:\n",
    "        return 'prime number'"
   ]
  },
  {
   "cell_type": "code",
   "execution_count": 26,
   "id": "46a542e0-0ac9-4c38-a79c-e6ef2e928950",
   "metadata": {},
   "outputs": [
    {
     "data": {
      "text/plain": [
       "'prime number'"
      ]
     },
     "execution_count": 26,
     "metadata": {},
     "output_type": "execute_result"
    }
   ],
   "source": [
    "check_prime(23)"
   ]
  },
  {
   "cell_type": "code",
   "execution_count": 27,
   "id": "038d4be9-7094-477f-8596-73030c724258",
   "metadata": {},
   "outputs": [
    {
     "data": {
      "text/plain": [
       "'not a Prime Number'"
      ]
     },
     "execution_count": 27,
     "metadata": {},
     "output_type": "execute_result"
    }
   ],
   "source": [
    "check_prime(35)"
   ]
  },
  {
   "cell_type": "code",
   "execution_count": 31,
   "id": "f071ee4e-df81-49bf-81a5-b9db215f7e16",
   "metadata": {},
   "outputs": [
    {
     "name": "stdout",
     "output_type": "stream",
     "text": [
      "* \n",
      "* * \n",
      "* * * \n",
      "* * * * \n",
      "* * * * * \n"
     ]
    }
   ],
   "source": [
    "n=5\n",
    "for i in range(1,n+1):\n",
    "    print(i*'* ')"
   ]
  },
  {
   "cell_type": "code",
   "execution_count": 39,
   "id": "52157d11-4175-44da-8152-2f62c0b6ff34",
   "metadata": {},
   "outputs": [
    {
     "name": "stdout",
     "output_type": "stream",
     "text": [
      "    * \n",
      "   * * \n",
      "  * * * \n",
      " * * * * \n",
      "* * * * * \n"
     ]
    }
   ],
   "source": [
    "n=5\n",
    "for i in range(1,n+1):\n",
    "    print(' '*(n-i) + i*'* ')"
   ]
  },
  {
   "cell_type": "code",
   "execution_count": 59,
   "id": "1580ca91-56b5-44c4-83d2-3589a1b99832",
   "metadata": {},
   "outputs": [],
   "source": [
    "def print_star(n=5, typ = 'left'):\n",
    "    if typ == 'left':\n",
    "        space = ''\n",
    "    elif typ == 'right':\n",
    "        space = '  '\n",
    "    elif typ == 'mid':\n",
    "        space = ' '\n",
    "    for i in range(1,n+1):\n",
    "        print(space*(n-i) + i*'* ')"
   ]
  },
  {
   "cell_type": "code",
   "execution_count": 60,
   "id": "a96f6b95-04d5-4e45-9c8b-af5519f438dd",
   "metadata": {},
   "outputs": [
    {
     "name": "stdout",
     "output_type": "stream",
     "text": [
      "* \n",
      "* * \n",
      "* * * \n"
     ]
    }
   ],
   "source": [
    "print_star(3)"
   ]
  },
  {
   "cell_type": "raw",
   "id": "ef5b7be5-9017-4c5c-833c-ab092b2ad365",
   "metadata": {},
   "source": []
  },
  {
   "cell_type": "code",
   "execution_count": 61,
   "id": "ab65090b-6140-4980-9846-3629b0b03f86",
   "metadata": {},
   "outputs": [
    {
     "name": "stdout",
     "output_type": "stream",
     "text": [
      "    * \n",
      "  * * \n",
      "* * * \n"
     ]
    }
   ],
   "source": [
    "print_star(3,'right')"
   ]
  },
  {
   "cell_type": "code",
   "execution_count": 62,
   "id": "d9795f60-c8df-45b6-aba5-f87f8a55cf80",
   "metadata": {},
   "outputs": [
    {
     "name": "stdout",
     "output_type": "stream",
     "text": [
      "    * \n",
      "   * * \n",
      "  * * * \n",
      " * * * * \n",
      "* * * * * \n"
     ]
    }
   ],
   "source": [
    "print_star(5,'mid')"
   ]
  },
  {
   "cell_type": "code",
   "execution_count": 67,
   "id": "d798ece5-c228-41bf-9eea-89b6d60004c0",
   "metadata": {},
   "outputs": [],
   "source": [
    "def print_star(n=5, typ = 'left',shape='*'):\n",
    "    if typ == 'left':\n",
    "        space = ''\n",
    "    elif typ == 'right':\n",
    "        space = '  '\n",
    "    elif typ == 'mid':\n",
    "        space = ' '\n",
    "    for i in range(1,n+1):\n",
    "        print(space*(n-i) + i*f'{shape} ')"
   ]
  },
  {
   "cell_type": "code",
   "execution_count": 68,
   "id": "2b7a614f-e82d-4e79-825d-10249d91f326",
   "metadata": {},
   "outputs": [
    {
     "name": "stdout",
     "output_type": "stream",
     "text": [
      "        # \n",
      "      # # \n",
      "    # # # \n",
      "  # # # # \n",
      "# # # # # \n"
     ]
    }
   ],
   "source": [
    "print_star(5,'right','#')"
   ]
  },
  {
   "cell_type": "code",
   "execution_count": 69,
   "id": "548b5780-40a4-40b4-b5e4-b721e4e9a935",
   "metadata": {},
   "outputs": [
    {
     "name": "stdout",
     "output_type": "stream",
     "text": [
      "        ^ \n",
      "      ^ ^ \n",
      "    ^ ^ ^ \n",
      "  ^ ^ ^ ^ \n",
      "^ ^ ^ ^ ^ \n"
     ]
    }
   ],
   "source": [
    "print_star(5,'right','^')"
   ]
  },
  {
   "cell_type": "code",
   "execution_count": 70,
   "id": "dbeb2a94-960c-4a09-8e2c-cf9c93dbbe1e",
   "metadata": {},
   "outputs": [
    {
     "name": "stdout",
     "output_type": "stream",
     "text": [
      "    # \n",
      "   # # \n",
      "  # # # \n",
      " # # # # \n",
      "# # # # # \n"
     ]
    }
   ],
   "source": [
    "print_star(5,'mid','#')"
   ]
  },
  {
   "cell_type": "code",
   "execution_count": 71,
   "id": "7539bf21-fef1-4f13-a2d6-1d740941b392",
   "metadata": {},
   "outputs": [
    {
     "name": "stdout",
     "output_type": "stream",
     "text": [
      "# \n",
      "# # \n",
      "# # # \n",
      "# # # # \n",
      "# # # # # \n"
     ]
    }
   ],
   "source": [
    "print_star(5,'left','#')"
   ]
  },
  {
   "cell_type": "code",
   "execution_count": 72,
   "id": "9d19d02a-e1e0-49f0-85f9-d002f36971c6",
   "metadata": {},
   "outputs": [],
   "source": [
    "def sum_of_n_natural_numbers(n):\n",
    "    result = 0\n",
    "    for i in range(1,n+1):\n",
    "        result +=i\n",
    "    return result"
   ]
  },
  {
   "cell_type": "code",
   "execution_count": 75,
   "id": "4fcb4c3e-c108-49ab-915f-383e224451dc",
   "metadata": {},
   "outputs": [
    {
     "data": {
      "text/plain": [
       "55"
      ]
     },
     "execution_count": 75,
     "metadata": {},
     "output_type": "execute_result"
    }
   ],
   "source": [
    "sum_of_n_natural_numbers(10)"
   ]
  },
  {
   "cell_type": "code",
   "execution_count": 77,
   "id": "129c2d6b-4a1a-4b35-88d3-9a60e185bf27",
   "metadata": {},
   "outputs": [],
   "source": [
    "def factorial(n):\n",
    "    result=1\n",
    "    for i in range(1,n+1):\n",
    "        result *= i\n",
    "    return result"
   ]
  },
  {
   "cell_type": "code",
   "execution_count": 78,
   "id": "7d06de86-25d6-4e7e-85db-dd5c8a8f66cb",
   "metadata": {},
   "outputs": [
    {
     "data": {
      "text/plain": [
       "120"
      ]
     },
     "execution_count": 78,
     "metadata": {},
     "output_type": "execute_result"
    }
   ],
   "source": [
    "factorial(5)"
   ]
  },
  {
   "cell_type": "code",
   "execution_count": 79,
   "id": "0f96c457-90dc-4d94-b575-984c41516a50",
   "metadata": {},
   "outputs": [
    {
     "data": {
      "text/plain": [
       "6"
      ]
     },
     "execution_count": 79,
     "metadata": {},
     "output_type": "execute_result"
    }
   ],
   "source": [
    "factorial(3)"
   ]
  },
  {
   "cell_type": "code",
   "execution_count": 81,
   "id": "4612e8b0-5a92-49f6-bd9a-03bfaa61ff56",
   "metadata": {},
   "outputs": [],
   "source": [
    "def total_sales(*args):\n",
    "    result = 0\n",
    "    for i in args:\n",
    "        result+=i\n",
    "    return result"
   ]
  },
  {
   "cell_type": "code",
   "execution_count": 82,
   "id": "c4fbb426-6c8a-445c-bd3f-65b3c3b055d2",
   "metadata": {},
   "outputs": [
    {
     "data": {
      "text/plain": [
       "465"
      ]
     },
     "execution_count": 82,
     "metadata": {},
     "output_type": "execute_result"
    }
   ],
   "source": [
    "total_sales(1,2,3,4,455)"
   ]
  },
  {
   "cell_type": "code",
   "execution_count": 83,
   "id": "19502ddf-d3ab-497e-b49e-23b980e58591",
   "metadata": {},
   "outputs": [],
   "source": [
    "sales = [44,3,4354,43,35,4,54,5,45,535]\n"
   ]
  },
  {
   "cell_type": "code",
   "execution_count": 101,
   "id": "37f2fb18-55dd-47e9-9587-df4dc91240ad",
   "metadata": {},
   "outputs": [
    {
     "name": "stdout",
     "output_type": "stream",
     "text": [
      "3\n"
     ]
    }
   ],
   "source": [
    "min_element = sales[0]\n",
    "for i in sales[1:]:\n",
    "    if i < min_element:\n",
    "        min_element = i\n",
    "print(min_element)"
   ]
  },
  {
   "cell_type": "code",
   "execution_count": 112,
   "id": "472fc0da-66f1-4d36-8bdd-bc480151ec5f",
   "metadata": {},
   "outputs": [],
   "source": [
    "\n",
    "def total_sales(*data):\n",
    "    max_element = data[1]\n",
    "    for i in data[1:]:\n",
    "        if i > max_element:\n",
    "            max_element = i\n",
    "    print(max_element)"
   ]
  },
  {
   "cell_type": "code",
   "execution_count": 113,
   "id": "02798873-d753-4c1c-964a-813453c3b659",
   "metadata": {},
   "outputs": [
    {
     "name": "stdout",
     "output_type": "stream",
     "text": [
      "3323\n"
     ]
    }
   ],
   "source": [
    "total_sales(32,2,4,34,3323,3)"
   ]
  },
  {
   "cell_type": "code",
   "execution_count": 107,
   "id": "0f077a69-0034-49b7-890e-a342b1595fe6",
   "metadata": {},
   "outputs": [],
   "source": [
    "def minn(*data):\n",
    "    min_ele = data[0]\n",
    "    for i in data[1:]:\n",
    "        if i < min_ele:\n",
    "            min_ele = i\n",
    "    return min_ele"
   ]
  },
  {
   "cell_type": "code",
   "execution_count": 106,
   "id": "d983c79c-6fa9-481c-ab6a-dcfc25fc0082",
   "metadata": {},
   "outputs": [
    {
     "data": {
      "text/plain": [
       "3"
      ]
     },
     "execution_count": 106,
     "metadata": {},
     "output_type": "execute_result"
    }
   ],
   "source": [
    "minn(37.34344,63,46,4,3,46,3,634,6,346)"
   ]
  },
  {
   "cell_type": "code",
   "execution_count": 108,
   "id": "53f9b089-6005-444a-957c-fa5567668f6c",
   "metadata": {},
   "outputs": [
    {
     "data": {
      "text/plain": [
       "5"
      ]
     },
     "execution_count": 108,
     "metadata": {},
     "output_type": "execute_result"
    }
   ],
   "source": [
    "minn(2342.4,34534,54,54,5)"
   ]
  },
  {
   "cell_type": "code",
   "execution_count": 121,
   "id": "da2deec7-1820-4740-b076-08d85f806fbd",
   "metadata": {},
   "outputs": [],
   "source": [
    "company = ['ola','uber','rapido','indrive','adani','tata']\n",
    "def add_hashtag(*company):\n",
    "    result=[]\n",
    "    for i in company:\n",
    "        result.append('#'+i.upper())\n",
    "    return result"
   ]
  },
  {
   "cell_type": "code",
   "execution_count": 122,
   "id": "992dee00-d5a6-4f9d-be00-12f28f23a534",
   "metadata": {},
   "outputs": [
    {
     "data": {
      "text/plain": [
       "['#OLA', '#UBER', '#RAPIDO', '#INDRIVE', '#ADANI', '#TATA']"
      ]
     },
     "execution_count": 122,
     "metadata": {},
     "output_type": "execute_result"
    }
   ],
   "source": [
    "add_hashtag(*company)"
   ]
  },
  {
   "cell_type": "code",
   "execution_count": 127,
   "id": "1368b992-4adf-40b4-a621-06b6f8bd08d5",
   "metadata": {},
   "outputs": [],
   "source": [
    "def store_records(name,age,sec,roll_no,Class):\n",
    "    data = {'name':name, 'age':age, 'sec':sec, 'roll_no':roll_no, 'Class':Class}\n",
    "    import pandas as pd\n",
    "    result= pd.DataFrame(data,index=[1])\n",
    "    return result"
   ]
  },
  {
   "cell_type": "code",
   "execution_count": 128,
   "id": "a55b302c-0ac8-424e-a002-d6b96a91c57d",
   "metadata": {},
   "outputs": [
    {
     "data": {
      "text/html": [
       "<div>\n",
       "<style scoped>\n",
       "    .dataframe tbody tr th:only-of-type {\n",
       "        vertical-align: middle;\n",
       "    }\n",
       "\n",
       "    .dataframe tbody tr th {\n",
       "        vertical-align: top;\n",
       "    }\n",
       "\n",
       "    .dataframe thead th {\n",
       "        text-align: right;\n",
       "    }\n",
       "</style>\n",
       "<table border=\"1\" class=\"dataframe\">\n",
       "  <thead>\n",
       "    <tr style=\"text-align: right;\">\n",
       "      <th></th>\n",
       "      <th>name</th>\n",
       "      <th>age</th>\n",
       "      <th>sec</th>\n",
       "      <th>roll_no</th>\n",
       "      <th>Class</th>\n",
       "    </tr>\n",
       "  </thead>\n",
       "  <tbody>\n",
       "    <tr>\n",
       "      <th>1</th>\n",
       "      <td>karan</td>\n",
       "      <td>20</td>\n",
       "      <td>A</td>\n",
       "      <td>12</td>\n",
       "      <td>12</td>\n",
       "    </tr>\n",
       "  </tbody>\n",
       "</table>\n",
       "</div>"
      ],
      "text/plain": [
       "    name  age sec  roll_no  Class\n",
       "1  karan   20   A       12     12"
      ]
     },
     "execution_count": 128,
     "metadata": {},
     "output_type": "execute_result"
    }
   ],
   "source": [
    "store_records('karan',20,'A',12,12)"
   ]
  },
  {
   "cell_type": "code",
   "execution_count": 129,
   "id": "60888619-4f4d-423d-aad2-9c08f2e78de0",
   "metadata": {},
   "outputs": [
    {
     "data": {
      "text/html": [
       "<div>\n",
       "<style scoped>\n",
       "    .dataframe tbody tr th:only-of-type {\n",
       "        vertical-align: middle;\n",
       "    }\n",
       "\n",
       "    .dataframe tbody tr th {\n",
       "        vertical-align: top;\n",
       "    }\n",
       "\n",
       "    .dataframe thead th {\n",
       "        text-align: right;\n",
       "    }\n",
       "</style>\n",
       "<table border=\"1\" class=\"dataframe\">\n",
       "  <thead>\n",
       "    <tr style=\"text-align: right;\">\n",
       "      <th></th>\n",
       "      <th>name</th>\n",
       "      <th>age</th>\n",
       "      <th>sec</th>\n",
       "      <th>roll_no</th>\n",
       "      <th>Class</th>\n",
       "    </tr>\n",
       "  </thead>\n",
       "  <tbody>\n",
       "    <tr>\n",
       "      <th>1</th>\n",
       "      <td>karan</td>\n",
       "      <td>20</td>\n",
       "      <td>A</td>\n",
       "      <td>12</td>\n",
       "      <td>12</td>\n",
       "    </tr>\n",
       "  </tbody>\n",
       "</table>\n",
       "</div>"
      ],
      "text/plain": [
       "    name  age sec  roll_no  Class\n",
       "1  karan   20   A       12     12"
      ]
     },
     "metadata": {},
     "output_type": "display_data"
    },
    {
     "data": {
      "text/html": [
       "<div>\n",
       "<style scoped>\n",
       "    .dataframe tbody tr th:only-of-type {\n",
       "        vertical-align: middle;\n",
       "    }\n",
       "\n",
       "    .dataframe tbody tr th {\n",
       "        vertical-align: top;\n",
       "    }\n",
       "\n",
       "    .dataframe thead th {\n",
       "        text-align: right;\n",
       "    }\n",
       "</style>\n",
       "<table border=\"1\" class=\"dataframe\">\n",
       "  <thead>\n",
       "    <tr style=\"text-align: right;\">\n",
       "      <th></th>\n",
       "      <th>name</th>\n",
       "      <th>age</th>\n",
       "      <th>sec</th>\n",
       "      <th>roll_no</th>\n",
       "      <th>Class</th>\n",
       "    </tr>\n",
       "  </thead>\n",
       "  <tbody>\n",
       "    <tr>\n",
       "      <th>1</th>\n",
       "      <td>mohan</td>\n",
       "      <td>20</td>\n",
       "      <td>A</td>\n",
       "      <td>12</td>\n",
       "      <td>12</td>\n",
       "    </tr>\n",
       "  </tbody>\n",
       "</table>\n",
       "</div>"
      ],
      "text/plain": [
       "    name  age sec  roll_no  Class\n",
       "1  mohan   20   A       12     12"
      ]
     },
     "metadata": {},
     "output_type": "display_data"
    },
    {
     "data": {
      "text/html": [
       "<div>\n",
       "<style scoped>\n",
       "    .dataframe tbody tr th:only-of-type {\n",
       "        vertical-align: middle;\n",
       "    }\n",
       "\n",
       "    .dataframe tbody tr th {\n",
       "        vertical-align: top;\n",
       "    }\n",
       "\n",
       "    .dataframe thead th {\n",
       "        text-align: right;\n",
       "    }\n",
       "</style>\n",
       "<table border=\"1\" class=\"dataframe\">\n",
       "  <thead>\n",
       "    <tr style=\"text-align: right;\">\n",
       "      <th></th>\n",
       "      <th>name</th>\n",
       "      <th>age</th>\n",
       "      <th>sec</th>\n",
       "      <th>roll_no</th>\n",
       "      <th>Class</th>\n",
       "    </tr>\n",
       "  </thead>\n",
       "  <tbody>\n",
       "    <tr>\n",
       "      <th>1</th>\n",
       "      <td>naman</td>\n",
       "      <td>20</td>\n",
       "      <td>A</td>\n",
       "      <td>12</td>\n",
       "      <td>12</td>\n",
       "    </tr>\n",
       "  </tbody>\n",
       "</table>\n",
       "</div>"
      ],
      "text/plain": [
       "    name  age sec  roll_no  Class\n",
       "1  naman   20   A       12     12"
      ]
     },
     "metadata": {},
     "output_type": "display_data"
    }
   ],
   "source": [
    "display(store_records('karan',20,'A',12,12))\n",
    "display(store_records('mohan',20,'A',12,12))\n",
    "display(store_records('naman',20,'A',12,12))"
   ]
  },
  {
   "cell_type": "code",
   "execution_count": 131,
   "id": "78bb1beb-e617-459a-b4b2-0e420bdd8a65",
   "metadata": {},
   "outputs": [],
   "source": [
    "def students_records(**kwargs):\n",
    "    print(kwargs)\n",
    "    keys = list(kwargs)\n",
    "    if type(keys[0]) == str:\n",
    "        import pandas as pd\n",
    "        result = pd.DataFrame(kwargs,index=[1])\n",
    "        return result\n",
    "    else:\n",
    "        result = pd.DataFrame(kwargs)\n",
    "        return result"
   ]
  },
  {
   "cell_type": "code",
   "execution_count": null,
   "id": "5ae00fbb-477c-41d3-ac03-b288ef76e45d",
   "metadata": {},
   "outputs": [],
   "source": [
    "student_records(name= 'ayan', age=20, sec = 'E2', roll_no=75, address='delhi')"
   ]
  }
 ],
 "metadata": {
  "kernelspec": {
   "display_name": "Python [conda env:base] *",
   "language": "python",
   "name": "conda-base-py"
  },
  "language_info": {
   "codemirror_mode": {
    "name": "ipython",
    "version": 3
   },
   "file_extension": ".py",
   "mimetype": "text/x-python",
   "name": "python",
   "nbconvert_exporter": "python",
   "pygments_lexer": "ipython3",
   "version": "3.12.7"
  }
 },
 "nbformat": 4,
 "nbformat_minor": 5
}
