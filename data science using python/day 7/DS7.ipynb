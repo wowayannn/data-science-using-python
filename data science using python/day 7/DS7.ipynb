{
 "cells": [
  {
   "cell_type": "code",
   "execution_count": 18,
   "id": "cf88f786-4cf3-4584-8ee5-dfa4d483c658",
   "metadata": {},
   "outputs": [],
   "source": [
    "class Daily_Object:\n",
    "  def phone_case(self):\n",
    "    print('Strong Build Phone Case')\n",
    "\n",
    "class JBL:\n",
    "  def sonic_speaker(self):\n",
    "    print('High Quality Sound Speaker')\n",
    "\n",
    "class Samsung:\n",
    "  def screen_display(self):\n",
    "    print('4k HD Display')\n",
    "\n",
    "class Nvidia:\n",
    "  def motherboard(self):\n",
    "    print('Fast motherboard')\n",
    "\n",
    "class Sony:\n",
    "  def camera(self):\n",
    "    print('4k Camera')\n",
    "\n",
    "class Lava:\n",
    "  def charger(self):\n",
    "    print('SuperFast Charger')\n",
    "\n",
    "class One_plus:\n",
    "     def charger(self):\n",
    "             print('Original Superfast Charger!! From One_Plus')\n",
    "\n",
    "\n",
    "class Mobile(Daily_Object, JBL, Samsung, Nvidia, Sony, Lava, Mobile):\n",
    "      def __init__(self):\n",
    "        print('Phone Object Created Successfully!!')\n",
    "\n",
    "      def charger(self):\n",
    "        print('Actual Charger From Mobile!!')"
   ]
  },
  {
   "cell_type": "code",
   "execution_count": 19,
   "id": "652a34c0-98b5-4463-af2b-a7fa9f8d73fc",
   "metadata": {},
   "outputs": [
    {
     "name": "stdout",
     "output_type": "stream",
     "text": [
      "Phone Object Created Successfully!!\n"
     ]
    }
   ],
   "source": [
    "nothing = Mobile()"
   ]
  },
  {
   "cell_type": "code",
   "execution_count": 20,
   "id": "8c72555e-f372-4d5d-9723-363730c206aa",
   "metadata": {},
   "outputs": [
    {
     "name": "stdout",
     "output_type": "stream",
     "text": [
      "4k Camera\n"
     ]
    }
   ],
   "source": [
    "nothing.camera()"
   ]
  },
  {
   "cell_type": "code",
   "execution_count": 21,
   "id": "e9d8c20f-b7bf-4aff-8ab4-dfbaf2e2b633",
   "metadata": {},
   "outputs": [
    {
     "name": "stdout",
     "output_type": "stream",
     "text": [
      "Actual Charger From Mobile!!\n"
     ]
    }
   ],
   "source": [
    "nothing.charger()"
   ]
  },
  {
   "cell_type": "code",
   "execution_count": 22,
   "id": "b0304f9b-ba1f-452b-b373-de2ed8438869",
   "metadata": {},
   "outputs": [],
   "source": [
    "#multilevel inheritance"
   ]
  },
  {
   "cell_type": "code",
   "execution_count": 42,
   "id": "5d32b313-44f3-4a0d-b7f5-b0784c6aff1b",
   "metadata": {},
   "outputs": [],
   "source": [
    "class GrandFather:  #subclass\n",
    "    def land_property(self):\n",
    "        print('Land Property')\n",
    "\n",
    "class Father(GrandFather):  #subclass\n",
    "    def bank_balance(self):\n",
    "        print('Big Money Player, Huge Bank Balance')\n",
    "\n",
    "class Son(Father):   #subclass\n",
    "    def political_power(self):\n",
    "        print('Political Powers')\n",
    "\n",
    "class GrandSon(Son):  #subclass\n",
    "    def mind(self):\n",
    "        print('Mind for self study')\n",
    "\n",
    "class Friend(GrandSon):  #subclass\n",
    "    def __init__(self):\n",
    "        print('Nothing!!')"
   ]
  },
  {
   "cell_type": "code",
   "execution_count": 38,
   "id": "fb84a209-cd9c-49db-885d-fc0cbfb9da6d",
   "metadata": {},
   "outputs": [
    {
     "name": "stdout",
     "output_type": "stream",
     "text": [
      "done\n"
     ]
    }
   ],
   "source": [
    "aman = GrandSon()\n",
    "print('done')"
   ]
  },
  {
   "cell_type": "code",
   "execution_count": 39,
   "id": "d16b96c6-4abb-4d89-9379-6167816fd766",
   "metadata": {},
   "outputs": [
    {
     "name": "stdout",
     "output_type": "stream",
     "text": [
      "Big Money Player, Huge Bank Balance\n"
     ]
    }
   ],
   "source": [
    "aman.bank_balance()"
   ]
  },
  {
   "cell_type": "code",
   "execution_count": 40,
   "id": "586c70f8-a39e-42c4-9e05-d6a197a198a5",
   "metadata": {},
   "outputs": [
    {
     "name": "stdout",
     "output_type": "stream",
     "text": [
      "Land Property\n"
     ]
    }
   ],
   "source": [
    "aman.land_property()"
   ]
  },
  {
   "cell_type": "code",
   "execution_count": 43,
   "id": "9c04b1e7-d1e2-4d5b-9e4d-2796b71c6129",
   "metadata": {},
   "outputs": [
    {
     "name": "stdout",
     "output_type": "stream",
     "text": [
      "Nothing!!\n"
     ]
    }
   ],
   "source": [
    "karan = Friend()"
   ]
  },
  {
   "cell_type": "code",
   "execution_count": 44,
   "id": "3f4dad14-5b42-41fb-9027-8ff144d9e42d",
   "metadata": {},
   "outputs": [
    {
     "name": "stdout",
     "output_type": "stream",
     "text": [
      "Political Powers\n"
     ]
    }
   ],
   "source": [
    "karan.political_power()"
   ]
  },
  {
   "cell_type": "code",
   "execution_count": null,
   "id": "7939807a-8226-41fd-b2e9-5e04fbca9bcf",
   "metadata": {},
   "outputs": [],
   "source": []
  },
  {
   "cell_type": "code",
   "execution_count": 56,
   "id": "1515d4c9-f672-4d67-8cac-fdc6b6ef1e9b",
   "metadata": {},
   "outputs": [],
   "source": [
    "# single inheritance\n",
    "class BMW: # Parent Class, Main Class, Super Class, Base Class\n",
    "\n",
    "  def super_turbo_engine(self):\n",
    "    print('super_turbo_engine Fast Speed')\n",
    "\n",
    "class Audi(BMW): # Child Class, Sub Class\n",
    "\n",
    "  def auto_pilot(self):\n",
    "    print('Can run on Auto Pilot Mode!!')"
   ]
  },
  {
   "cell_type": "code",
   "execution_count": 48,
   "id": "d7530375-a226-45a6-a19a-5583db17dc35",
   "metadata": {},
   "outputs": [],
   "source": [
    "audi_r8 = Audi()"
   ]
  },
  {
   "cell_type": "code",
   "execution_count": null,
   "id": "0458dab1-daef-4e43-bc8c-d3e666256b46",
   "metadata": {},
   "outputs": [],
   "source": []
  },
  {
   "cell_type": "code",
   "execution_count": null,
   "id": "1813e21b-6dcd-4f08-9bfb-9dab126be71c",
   "metadata": {},
   "outputs": [],
   "source": []
  },
  {
   "cell_type": "code",
   "execution_count": null,
   "id": "d53b4b06-1af1-4d4d-84cb-c5e3caae788b",
   "metadata": {},
   "outputs": [],
   "source": []
  },
  {
   "cell_type": "code",
   "execution_count": null,
   "id": "4da700f5-8d34-4d98-b379-7033f4a09393",
   "metadata": {},
   "outputs": [],
   "source": []
  },
  {
   "cell_type": "code",
   "execution_count": null,
   "id": "573c1352-acbf-4ee7-9499-9c0107700cb8",
   "metadata": {},
   "outputs": [],
   "source": []
  },
  {
   "cell_type": "code",
   "execution_count": 55,
   "id": "c2da7625-b68e-4ccc-8d81-b60b9dcea3d0",
   "metadata": {},
   "outputs": [],
   "source": [
    "class Hybrid_class(Mobile,Friend,Audi):  #Mobile(Multiple), Friend(multilevel), #Audi(single)\n",
    "    def __init__(self):\n",
    "        print('This is a Hybrid Class')\n",
    "\n",
    "    def info(self):\n",
    "        print('It can call any methods')"
   ]
  },
  {
   "cell_type": "code",
   "execution_count": 53,
   "id": "c8983f32-9b57-4cef-a8e9-efaceefe573b",
   "metadata": {},
   "outputs": [
    {
     "name": "stdout",
     "output_type": "stream",
     "text": [
      "This is a Hybrid Class\n"
     ]
    }
   ],
   "source": [
    "ob = Hybrid_class()"
   ]
  },
  {
   "cell_type": "code",
   "execution_count": 54,
   "id": "bacb2ceb-6aa8-427f-9daa-5b8553b384dd",
   "metadata": {},
   "outputs": [
    {
     "name": "stdout",
     "output_type": "stream",
     "text": [
      "It can call any methods\n"
     ]
    }
   ],
   "source": [
    "ob.info()"
   ]
  },
  {
   "cell_type": "code",
   "execution_count": null,
   "id": "e62bbb11-9d3c-48be-a986-2dbcc4390161",
   "metadata": {},
   "outputs": [],
   "source": []
  },
  {
   "cell_type": "code",
   "execution_count": 57,
   "id": "a3d57c9c-1a40-46c8-a831-52d26f3ce2a2",
   "metadata": {},
   "outputs": [],
   "source": [
    "class UGC:\n",
    "    def __init__(self):\n",
    "        print('Grabt Permission')\n",
    "    def college_approved(self):\n",
    "        print('COLLEGE HAS BEEN APPROVED')\n",
    "\n",
    "class DU(UGC):\n",
    "    def multiple_colleges(self):\n",
    "        print('list of colleges')\n",
    "\n",
    "class IP(UGC):\n",
    "    def multiple_collges(self):\n",
    "        print('list of colleges')\n",
    "\n",
    "class DTU(UGC):\n",
    "    def multiple_colleges(self):\n",
    "        print('list of colleges')\n",
    "\n",
    "class BHU(UGC):\n",
    "    def multiple_colleges(self):\n",
    "        print('list of colleges')"
   ]
  },
  {
   "cell_type": "code",
   "execution_count": null,
   "id": "a2475757-3092-4fdc-bcab-a422da8806fa",
   "metadata": {},
   "outputs": [],
   "source": []
  },
  {
   "cell_type": "code",
   "execution_count": null,
   "id": "db00851d-c661-4f37-b319-6c7c4bbe54ef",
   "metadata": {},
   "outputs": [],
   "source": []
  },
  {
   "cell_type": "code",
   "execution_count": 59,
   "id": "9b686f32-3de6-4bb7-84f9-e7dfc0c5434b",
   "metadata": {},
   "outputs": [
    {
     "name": "stdout",
     "output_type": "stream",
     "text": [
      "None <class 'NoneType'>\n"
     ]
    }
   ],
   "source": [
    "a='45'\n",
    "a= None\n",
    "print(a,type(a))"
   ]
  },
  {
   "cell_type": "code",
   "execution_count": 62,
   "id": "2f777b71-fde4-408a-b484-4113749bd912",
   "metadata": {},
   "outputs": [
    {
     "name": "stdout",
     "output_type": "stream",
     "text": [
      "F1 Car Speed:  MAX SPEED 200 Km/hr\n",
      "F1 Car Speed:  MAX SPEED 250 Km/hr\n",
      "F1 Car Speed:  MAX SPEED 300 Km/hr\n"
     ]
    }
   ],
   "source": [
    "class Car:\n",
    "    def speed(self):\n",
    "        return('MAX SPEED 200 Km/hr')\n",
    "    def auto_pilot(self):\n",
    "        return('it supports auto pilot')\n",
    "    def info(self):\n",
    "        return('this is just a car object')\n",
    "\n",
    "class BMW(Car):\n",
    "    def speed(self):\n",
    "        return('MAX SPEED 250 Km/hr')\n",
    "    def info(self):\n",
    "        return('a bmw car object')\n",
    "\n",
    "class Audi(Car):\n",
    "    def speed(self):\n",
    "        return('MAX SPEED 300 Km/hr')\n",
    "    def info(self):\n",
    "        return('Audi car')\n",
    "\n",
    "\n",
    "for i in [Car,BMW,Audi]:\n",
    "    f1 = i()\n",
    "    print('F1 Car Speed: ',f1.speed())"
   ]
  },
  {
   "cell_type": "code",
   "execution_count": 63,
   "id": "9a81195e-eb8d-4333-9ecb-3c8742dc2769",
   "metadata": {},
   "outputs": [
    {
     "name": "stdout",
     "output_type": "stream",
     "text": [
      "MAX SPEED 200 Km/hr\n"
     ]
    }
   ],
   "source": [
    "f1 = Car()\n",
    "print(f1.speed())"
   ]
  },
  {
   "cell_type": "code",
   "execution_count": 64,
   "id": "430e5c96-0fe8-475e-b42f-34ff9ba5740d",
   "metadata": {},
   "outputs": [
    {
     "name": "stdout",
     "output_type": "stream",
     "text": [
      "MAX SPEED 250 Km/hr\n"
     ]
    }
   ],
   "source": [
    "f1 = BMW()\n",
    "print(f1.speed())"
   ]
  },
  {
   "cell_type": "code",
   "execution_count": 65,
   "id": "db12f6fc-3bb2-433e-853c-e7536b859a71",
   "metadata": {},
   "outputs": [
    {
     "name": "stdout",
     "output_type": "stream",
     "text": [
      "MAX SPEED 300 Km/hr\n"
     ]
    }
   ],
   "source": [
    "f1 = Audi()\n",
    "print(f1.speed())"
   ]
  },
  {
   "cell_type": "code",
   "execution_count": null,
   "id": "71ecc8be-729f-429f-b2ef-df2f694d004c",
   "metadata": {},
   "outputs": [],
   "source": []
  },
  {
   "cell_type": "code",
   "execution_count": null,
   "id": "914f5d7a-5fbb-4aad-b959-2999aaec90cc",
   "metadata": {},
   "outputs": [],
   "source": []
  },
  {
   "cell_type": "code",
   "execution_count": 66,
   "id": "b3dc756f-0160-4ff1-9d8f-90b2d06fd2a8",
   "metadata": {},
   "outputs": [],
   "source": [
    "# method overrloading\n"
   ]
  },
  {
   "cell_type": "code",
   "execution_count": 70,
   "id": "eccda021-7eae-462d-81e2-aed9b2a56834",
   "metadata": {},
   "outputs": [
    {
     "name": "stdout",
     "output_type": "stream",
     "text": [
      "hello ayan,how are you??\n",
      "your address is delhi\n"
     ]
    }
   ],
   "source": [
    "class IITM:\n",
    "    def intro(self):\n",
    "        print('hello students!')\n",
    "\n",
    "    def intro(self,name):\n",
    "        print(f'hello {name},how are you??')\n",
    "\n",
    "    def intro(self,name,address):\n",
    "        print(f'hello {name},how are you??')\n",
    "        print(f'your address is {address}')\n",
    "a = IITM()\n",
    "a.intro('ayan','delhi')"
   ]
  },
  {
   "cell_type": "code",
   "execution_count": null,
   "id": "416d9345-5dee-485d-b129-2d9d0ca49acd",
   "metadata": {},
   "outputs": [],
   "source": []
  },
  {
   "cell_type": "code",
   "execution_count": 80,
   "id": "f5c24681-c981-4319-a843-a2e35e64be12",
   "metadata": {},
   "outputs": [
    {
     "name": "stdout",
     "output_type": "stream",
     "text": [
      "hello ayan,how are you?\n",
      "your address is delhi\n"
     ]
    }
   ],
   "source": [
    "class IITM:\n",
    "    def intro(self,name = None,address = None):\n",
    "        if (name == None) and (address == None):\n",
    "            print('hello candidate')\n",
    "        elif (name != None) and (address == None):\n",
    "            print(f'hello {name},how are you?')\n",
    "            \n",
    "        elif (name != None) and (address != None):\n",
    "            print(f'hello {name},how are you?')\n",
    "            print(f'your address is {address}')\n",
    "\n",
    "        else:\n",
    "            print('hello buudy')\n",
    "\n",
    "a = IITM()\n",
    "a.intro('ayan','delhi')"
   ]
  },
  {
   "cell_type": "code",
   "execution_count": 81,
   "id": "767cccd1-c5a1-40a7-85f2-499b6200863b",
   "metadata": {},
   "outputs": [
    {
     "name": "stdout",
     "output_type": "stream",
     "text": [
      "hello delhi,how are you?\n"
     ]
    }
   ],
   "source": [
    "a.intro('delhi')"
   ]
  },
  {
   "cell_type": "code",
   "execution_count": 82,
   "id": "90527342-2fe7-4d16-a075-25a16555007e",
   "metadata": {},
   "outputs": [
    {
     "name": "stdout",
     "output_type": "stream",
     "text": [
      "hello buudy\n"
     ]
    }
   ],
   "source": [
    "a.intro(address = 'delhi')"
   ]
  },
  {
   "cell_type": "code",
   "execution_count": 77,
   "id": "5c48b35a-2b25-44a9-9c52-f1828aacb934",
   "metadata": {},
   "outputs": [
    {
     "name": "stdout",
     "output_type": "stream",
     "text": [
      "hello candidate\n"
     ]
    }
   ],
   "source": [
    "a.intro()"
   ]
  },
  {
   "cell_type": "code",
   "execution_count": null,
   "id": "6c0d51c9-1236-4f65-a79d-eabc382f2319",
   "metadata": {},
   "outputs": [],
   "source": []
  },
  {
   "cell_type": "code",
   "execution_count": 84,
   "id": "22d16f7f-3427-473e-b46b-84bc4f0abef5",
   "metadata": {},
   "outputs": [],
   "source": [
    "# abstraction - BASICALLY USE IN PROJECT MANAGEMENT\n",
    "# - IDEA\n",
    "# NOT A PHYSICAL OBJECT\n",
    "\n",
    " #class Website:\n",
    "#   def login()\n",
    "#   def logout()\n",
    "#   def signup()\n",
    "#   def updates()\n",
    "#   def maultiple_pages():\n"
   ]
  },
  {
   "cell_type": "code",
   "execution_count": 86,
   "id": "85c685ab-3112-4332-b310-f1af319bc921",
   "metadata": {},
   "outputs": [
    {
     "ename": "TypeError",
     "evalue": "Can't instantiate abstract class Website without an implementation for abstract methods 'login', 'logout'",
     "output_type": "error",
     "traceback": [
      "\u001b[1;31m---------------------------------------------------------------------------\u001b[0m",
      "\u001b[1;31mTypeError\u001b[0m                                 Traceback (most recent call last)",
      "Cell \u001b[1;32mIn[86], line 12\u001b[0m\n\u001b[0;32m      8\u001b[0m     \u001b[38;5;129m@abstractmethod\u001b[39m\n\u001b[0;32m      9\u001b[0m     \u001b[38;5;28;01mdef\u001b[39;00m \u001b[38;5;21mlogout\u001b[39m(\u001b[38;5;28mself\u001b[39m):\n\u001b[0;32m     10\u001b[0m         \u001b[38;5;28mprint\u001b[39m(\u001b[38;5;124m'\u001b[39m\u001b[38;5;124ma logout method\u001b[39m\u001b[38;5;124m'\u001b[39m)\n\u001b[1;32m---> 12\u001b[0m asus \u001b[38;5;241m=\u001b[39m Website()\n\u001b[0;32m     13\u001b[0m \u001b[38;5;28mprint\u001b[39m(\u001b[38;5;124m'\u001b[39m\u001b[38;5;124mdone\u001b[39m\u001b[38;5;124m'\u001b[39m)\n",
      "\u001b[1;31mTypeError\u001b[0m: Can't instantiate abstract class Website without an implementation for abstract methods 'login', 'logout'"
     ]
    }
   ],
   "source": [
    "from abc import ABC, abstractmethod\n",
    "\n",
    "class Website(ABC):\n",
    "    \n",
    "    @abstractmethod\n",
    "    def login(self):\n",
    "        print('this is a loginmethod')\n",
    "\n",
    "    @abstractmethod\n",
    "    def logout(self):\n",
    "        print('a logout method')\n",
    "\n",
    "asus = Website()\n",
    "print('done')"
   ]
  },
  {
   "cell_type": "code",
   "execution_count": 89,
   "id": "dd678507-b1bc-4b24-8106-f682bb1f4127",
   "metadata": {},
   "outputs": [],
   "source": [
    "class ayan:\n",
    "\n",
    "    def signup(self):\n",
    "        print('user can signup')\n",
    "\n",
    "    def login(self):\n",
    "        print('this is a login form')\n",
    "\n",
    "    def logout(self):\n",
    "        print('user can logout')\n",
    "\n",
    "google = ayan()"
   ]
  },
  {
   "cell_type": "code",
   "execution_count": 90,
   "id": "c4a371c0-576c-47a7-b29e-a2d5aad84a09",
   "metadata": {},
   "outputs": [
    {
     "name": "stdout",
     "output_type": "stream",
     "text": [
      "this is a login form\n"
     ]
    }
   ],
   "source": [
    "google.login()"
   ]
  },
  {
   "cell_type": "code",
   "execution_count": 91,
   "id": "264a6a7d-e2e2-444d-8cc6-0c2424351eb6",
   "metadata": {},
   "outputs": [
    {
     "name": "stdout",
     "output_type": "stream",
     "text": [
      "user can logout\n"
     ]
    }
   ],
   "source": [
    "google.logout()"
   ]
  },
  {
   "cell_type": "code",
   "execution_count": 92,
   "id": "0018ff3f-727d-4849-bb5e-bb9f88484604",
   "metadata": {},
   "outputs": [
    {
     "name": "stdout",
     "output_type": "stream",
     "text": [
      "user can signup\n"
     ]
    }
   ],
   "source": [
    "google.signup()"
   ]
  },
  {
   "cell_type": "code",
   "execution_count": null,
   "id": "5d8d1485-1642-4431-80ad-3f6a790036d7",
   "metadata": {},
   "outputs": [],
   "source": []
  }
 ],
 "metadata": {
  "kernelspec": {
   "display_name": "Python [conda env:base] *",
   "language": "python",
   "name": "conda-base-py"
  },
  "language_info": {
   "codemirror_mode": {
    "name": "ipython",
    "version": 3
   },
   "file_extension": ".py",
   "mimetype": "text/x-python",
   "name": "python",
   "nbconvert_exporter": "python",
   "pygments_lexer": "ipython3",
   "version": "3.12.7"
  }
 },
 "nbformat": 4,
 "nbformat_minor": 5
}
