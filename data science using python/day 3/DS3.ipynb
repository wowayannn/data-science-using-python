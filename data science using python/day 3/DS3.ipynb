{
 "cells": [
  {
   "cell_type": "code",
   "execution_count": 5,
   "id": "1ef74bc0-575c-4099-8da1-4d4d6d5eb652",
   "metadata": {},
   "outputs": [],
   "source": [
    "def show_time():\n",
    "    try:\n",
    "        while True:\n",
    "            import time\n",
    "            print(time.asctime())\n",
    "            time.sleep(1)\n",
    "            display(clear = True)\n",
    "    except:\n",
    "        print('Timer has been stopped!!')"
   ]
  },
  {
   "cell_type": "code",
   "execution_count": 6,
   "id": "489e35b8-c52f-4f58-82c5-3adb4776db2a",
   "metadata": {},
   "outputs": [
    {
     "name": "stdout",
     "output_type": "stream",
     "text": [
      "Fri Jul  4 10:40:46 2025\n",
      "Timer has been stopped!!\n"
     ]
    }
   ],
   "source": [
    "show_time()"
   ]
  },
  {
   "cell_type": "code",
   "execution_count": null,
   "id": "6d8a61ba-e5da-44f7-b46a-913b2e52be22",
   "metadata": {},
   "outputs": [],
   "source": []
  },
  {
   "cell_type": "code",
   "execution_count": null,
   "id": "c5b3e512-deb5-4da7-b8e6-4180fe0d5975",
   "metadata": {},
   "outputs": [],
   "source": []
  },
  {
   "cell_type": "code",
   "execution_count": null,
   "id": "cdc82f37-225e-4484-8ff1-902a31ca365f",
   "metadata": {},
   "outputs": [],
   "source": []
  },
  {
   "cell_type": "code",
   "execution_count": null,
   "id": "7632b50c-4a3d-421d-8cc6-70cc5c08daf1",
   "metadata": {},
   "outputs": [],
   "source": []
  },
  {
   "cell_type": "code",
   "execution_count": 3,
   "id": "e5dfe82e-b458-48b3-b618-9dbebf7f0bbb",
   "metadata": {},
   "outputs": [
    {
     "name": "stdout",
     "output_type": "stream",
     "text": [
      "This is ayan module in python\n",
      "Info: https://www.google.com/\n"
     ]
    }
   ],
   "source": [
    "import ayan as a"
   ]
  },
  {
   "cell_type": "code",
   "execution_count": 4,
   "id": "07dce067-38c7-44d7-a0fd-e32588fc2690",
   "metadata": {},
   "outputs": [
    {
     "name": "stdout",
     "output_type": "stream",
     "text": [
      "done\n"
     ]
    }
   ],
   "source": [
    "print('done')"
   ]
  },
  {
   "cell_type": "code",
   "execution_count": 5,
   "id": "15b09c91-a301-4c1c-8797-043afa197526",
   "metadata": {},
   "outputs": [],
   "source": [
    "# import math as m\n",
    "# import random"
   ]
  },
  {
   "cell_type": "code",
   "execution_count": 6,
   "id": "974c9623-4d9d-4015-95f7-bbd63c3db404",
   "metadata": {},
   "outputs": [
    {
     "name": "stdout",
     "output_type": "stream",
     "text": [
      "      ! \n",
      "     ! ! \n",
      "    ! ! ! \n",
      "   ! ! ! ! \n",
      "  ! ! ! ! ! \n",
      " ! ! ! ! ! ! \n",
      "! ! ! ! ! ! ! \n"
     ]
    }
   ],
   "source": [
    "a.print_star(n = 7,typ='mid',shape='!')"
   ]
  },
  {
   "cell_type": "code",
   "execution_count": 16,
   "id": "c1b8f3e0-d095-47af-81e5-5bd84a82b545",
   "metadata": {},
   "outputs": [
    {
     "data": {
      "text/plain": [
       "'palindrome'"
      ]
     },
     "execution_count": 16,
     "metadata": {},
     "output_type": "execute_result"
    }
   ],
   "source": [
    "a.check_palindrome('naman')"
   ]
  },
  {
   "cell_type": "code",
   "execution_count": 8,
   "id": "c3588ce4-b529-4f2c-a06e-22dfecf07408",
   "metadata": {},
   "outputs": [
    {
     "data": {
      "text/plain": [
       "120"
      ]
     },
     "execution_count": 8,
     "metadata": {},
     "output_type": "execute_result"
    }
   ],
   "source": [
    "a.factorial(5)"
   ]
  },
  {
   "cell_type": "code",
   "execution_count": 9,
   "id": "ac07a782-b840-4cc4-9abe-1c354cecae74",
   "metadata": {},
   "outputs": [
    {
     "data": {
      "text/plain": [
       "[0, 1, 1, 2, 3]"
      ]
     },
     "execution_count": 9,
     "metadata": {},
     "output_type": "execute_result"
    }
   ],
   "source": [
    "a.give_fibo(5)"
   ]
  },
  {
   "cell_type": "code",
   "execution_count": 10,
   "id": "b763aedf-b6b6-4383-a83a-97b84e299ba6",
   "metadata": {},
   "outputs": [
    {
     "data": {
      "text/plain": [
       "2"
      ]
     },
     "execution_count": 10,
     "metadata": {},
     "output_type": "execute_result"
    }
   ],
   "source": [
    "a.minn(10,2,4,24,24,24,2,42,40)"
   ]
  },
  {
   "cell_type": "code",
   "execution_count": 11,
   "id": "52344925-de35-42cb-b124-c9090f1c5eb4",
   "metadata": {},
   "outputs": [
    {
     "name": "stdout",
     "output_type": "stream",
     "text": [
      "pygame 2.6.1 (SDL 2.28.4, Python 3.12.7)\n",
      "Hello from the pygame community. https://www.pygame.org/contribute.html\n"
     ]
    }
   ],
   "source": [
    "a.sound_box(50)"
   ]
  },
  {
   "cell_type": "code",
   "execution_count": 12,
   "id": "a6ca0bb7-36f3-4680-b0f4-85a9d1c1ed41",
   "metadata": {},
   "outputs": [
    {
     "data": {
      "text/plain": [
       "820"
      ]
     },
     "execution_count": 12,
     "metadata": {},
     "output_type": "execute_result"
    }
   ],
   "source": [
    "a.sum_of_n_natural_numbers(40)"
   ]
  },
  {
   "cell_type": "code",
   "execution_count": 13,
   "id": "f351ba66-dc4a-45df-af0a-180b636e3316",
   "metadata": {},
   "outputs": [
    {
     "name": "stdout",
     "output_type": "stream",
     "text": [
      "3423\n"
     ]
    }
   ],
   "source": [
    "a.total_sales(1132,32,32,3423,42,1,3,2,3)"
   ]
  },
  {
   "cell_type": "code",
   "execution_count": 14,
   "id": "78908611-cc2a-41a4-9128-9841c330f6b5",
   "metadata": {},
   "outputs": [],
   "source": [
    "# pip install gTTS\n",
    "from gtts import gTTS"
   ]
  },
  {
   "cell_type": "code",
   "execution_count": 15,
   "id": "2a1d3437-3d6b-480e-a5b2-6d8051867a84",
   "metadata": {},
   "outputs": [],
   "source": [
    "a.sound_box(50)"
   ]
  },
  {
   "cell_type": "code",
   "execution_count": 17,
   "id": "0af20daf-225b-4fdd-8470-7955f081af17",
   "metadata": {},
   "outputs": [],
   "source": [
    "a.sound_box(100)"
   ]
  },
  {
   "cell_type": "code",
   "execution_count": 22,
   "id": "48c94fbc-97d6-4a49-9c4f-e8338eefb2f0",
   "metadata": {},
   "outputs": [
    {
     "data": {
      "text/html": [
       "<div>\n",
       "<style scoped>\n",
       "    .dataframe tbody tr th:only-of-type {\n",
       "        vertical-align: middle;\n",
       "    }\n",
       "\n",
       "    .dataframe tbody tr th {\n",
       "        vertical-align: top;\n",
       "    }\n",
       "\n",
       "    .dataframe thead th {\n",
       "        text-align: right;\n",
       "    }\n",
       "</style>\n",
       "<table border=\"1\" class=\"dataframe\">\n",
       "  <thead>\n",
       "    <tr style=\"text-align: right;\">\n",
       "      <th></th>\n",
       "      <th>name</th>\n",
       "      <th>age</th>\n",
       "      <th>city</th>\n",
       "    </tr>\n",
       "  </thead>\n",
       "  <tbody>\n",
       "    <tr>\n",
       "      <th>1</th>\n",
       "      <td>ayan</td>\n",
       "      <td>20</td>\n",
       "      <td>delhi se bhenchoo</td>\n",
       "    </tr>\n",
       "  </tbody>\n",
       "</table>\n",
       "</div>"
      ],
      "text/plain": [
       "   name age               city\n",
       "1  ayan  20  delhi se bhenchoo"
      ]
     },
     "execution_count": 22,
     "metadata": {},
     "output_type": "execute_result"
    }
   ],
   "source": [
    "a.student_records(name='ayan', age='20', city= 'delhi se bhenchoo')"
   ]
  },
  {
   "cell_type": "code",
   "execution_count": 23,
   "id": "0e425441-eac1-420b-a3d4-2ae19923d86f",
   "metadata": {},
   "outputs": [
    {
     "data": {
      "text/plain": [
       "'not a Prime Number'"
      ]
     },
     "execution_count": 23,
     "metadata": {},
     "output_type": "execute_result"
    }
   ],
   "source": [
    "a.check_prime(15)"
   ]
  },
  {
   "cell_type": "code",
   "execution_count": 24,
   "id": "9ce0d7b7-0da4-4c17-a1b9-9b392512598b",
   "metadata": {},
   "outputs": [
    {
     "name": "stdout",
     "output_type": "stream",
     "text": [
      "Fri Jul  4 12:12:45 2025\n",
      "Timer has been stopped!!\n"
     ]
    }
   ],
   "source": [
    "a.show_time()"
   ]
  },
  {
   "cell_type": "code",
   "execution_count": 25,
   "id": "e85e6ded-7079-4d48-bb23-5083b3e9885d",
   "metadata": {},
   "outputs": [
    {
     "name": "stdout",
     "output_type": "stream",
     "text": [
      "done\n"
     ]
    }
   ],
   "source": [
    "from ayan import*\n",
    "print('done')"
   ]
  },
  {
   "cell_type": "code",
   "execution_count": 26,
   "id": "63a31cef-717c-479e-90dd-122a094ad36c",
   "metadata": {},
   "outputs": [
    {
     "name": "stdout",
     "output_type": "stream",
     "text": [
      "done\n"
     ]
    }
   ],
   "source": [
    "import turtle\n",
    "print('done')"
   ]
  },
  {
   "cell_type": "code",
   "execution_count": 31,
   "id": "83982ec2-a59f-4ce1-b352-4cd73e43263a",
   "metadata": {},
   "outputs": [],
   "source": [
    "import turtle\n",
    "for i in range(120):\n",
    "    turtle.speed(0)\n",
    "    col= ['red','yellow','green','blue','orange']\n",
    "    import random\n",
    "    picked_color = random.choice(col)\n",
    "    turtle.color(picked_color)\n",
    "    turtle.circle(100)\n",
    "    turtle.left(3)"
   ]
  },
  {
   "cell_type": "code",
   "execution_count": 40,
   "id": "20a0c6bc-5b19-4ab4-bfa9-01485bc7e613",
   "metadata": {},
   "outputs": [],
   "source": [
    "import turtle\n",
    "for i in range(6):\n",
    "    turtle.bgcolor('black')\n",
    "    turtle.color('cyan')\n",
    "    turtle.forward(150)\n",
    "    turtle.left(60)"
   ]
  },
  {
   "cell_type": "code",
   "execution_count": 41,
   "id": "1a8a95e6-6da1-46ee-9a49-67ea6ee72f09",
   "metadata": {},
   "outputs": [],
   "source": [
    "# text file\n",
    "# .py, .html, .csv, .tsv, .css, .java, .c, c++, .json, .js\n",
    "# binary file\n",
    "# need software\n",
    "# .pdf, .mp3, mp4, .png, .jpeg, .exe, .zip, .dat, .tar, .xlsx"
   ]
  },
  {
   "cell_type": "code",
   "execution_count": 42,
   "id": "8041982c-378c-4d05-b23e-5ceec252311f",
   "metadata": {},
   "outputs": [],
   "source": [
    "# handling:- read, write, copy, \n"
   ]
  },
  {
   "cell_type": "code",
   "execution_count": 45,
   "id": "0a2d6603-12fa-455d-a91c-eab3a6c2e9dc",
   "metadata": {},
   "outputs": [
    {
     "name": "stdout",
     "output_type": "stream",
     "text": [
      "print('''This is ayan module in python\n",
      "Info: https\n"
     ]
    }
   ],
   "source": [
    "file = open('ayan.py',mode = 'r')\n",
    "print(file.read(50))\n",
    "file.close()"
   ]
  },
  {
   "cell_type": "code",
   "execution_count": 46,
   "id": "4ecfa511-d622-4c8a-ba1d-c6fbc24a66d4",
   "metadata": {},
   "outputs": [
    {
     "name": "stdout",
     "output_type": "stream",
     "text": [
      "1640570967584\n",
      "1640570967584\n"
     ]
    }
   ],
   "source": [
    "a= 'ajay'\n",
    "b= 'ajay'\n",
    "print(id(a))\n",
    "print(id(a))"
   ]
  },
  {
   "cell_type": "code",
   "execution_count": 70,
   "id": "1e3c7906-6643-4460-ab46-b324b7514b93",
   "metadata": {},
   "outputs": [],
   "source": [
    "f = open('ayan.py',mode = 'r')\n"
   ]
  },
  {
   "cell_type": "code",
   "execution_count": 75,
   "id": "eb48ec5a-fd47-4ee5-bfba-541657bc6fe7",
   "metadata": {},
   "outputs": [
    {
     "name": "stdout",
     "output_type": "stream",
     "text": [
      "def check_palindrome(word):\n",
      "\n"
     ]
    }
   ],
   "source": [
    "print(f.readline())"
   ]
  },
  {
   "cell_type": "code",
   "execution_count": 76,
   "id": "c57aa7e1-ace8-4793-ab56-3e632982a338",
   "metadata": {},
   "outputs": [
    {
     "name": "stdout",
     "output_type": "stream",
     "text": [
      "done\n"
     ]
    }
   ],
   "source": [
    "f.close()\n",
    "print('done')"
   ]
  },
  {
   "cell_type": "code",
   "execution_count": 78,
   "id": "b930e71e-34ee-4ae3-8804-d41d9abb8302",
   "metadata": {},
   "outputs": [
    {
     "name": "stdout",
     "output_type": "stream",
     "text": [
      "print('''This is ayan module in python\n",
      "\n",
      "Info: https://www.google.com/''')\n",
      "\n",
      "\n",
      "\n",
      "\n",
      "\n",
      "def check_palindrome(word):\n",
      "\n",
      "    if type(word) == str:\n",
      "\n",
      "        word = word.upper()\n",
      "\n",
      "        if word == word[::-1]:\n",
      "\n",
      "            return 'palindrome'\n",
      "\n",
      "        else:\n",
      "\n"
     ]
    }
   ],
   "source": [
    "f = open('ayan.py',mode = 'r')\n",
    "for i in range(10):\n",
    "    print(f.readline())"
   ]
  },
  {
   "cell_type": "code",
   "execution_count": 80,
   "id": "0361ae25-8684-4505-8f57-8611b4ce8451",
   "metadata": {},
   "outputs": [
    {
     "name": "stdout",
     "output_type": "stream",
     "text": [
      "def check_palindrome(word):\n",
      "\n"
     ]
    }
   ],
   "source": [
    "f = open('ayan.py',mode = 'r')\n",
    "for i in range(10):\n",
    "    if i ==4: #line no 5\n",
    "        print(f.readline())\n",
    "    else:\n",
    "        f.readline()"
   ]
  },
  {
   "cell_type": "code",
   "execution_count": null,
   "id": "162278be-8359-4019-95a8-2391dc6333e4",
   "metadata": {},
   "outputs": [],
   "source": [
    "f = open('ayan.py',mode='r'"
   ]
  }
 ],
 "metadata": {
  "kernelspec": {
   "display_name": "Python [conda env:base] *",
   "language": "python",
   "name": "conda-base-py"
  },
  "language_info": {
   "codemirror_mode": {
    "name": "ipython",
    "version": 3
   },
   "file_extension": ".py",
   "mimetype": "text/x-python",
   "name": "python",
   "nbconvert_exporter": "python",
   "pygments_lexer": "ipython3",
   "version": "3.12.7"
  }
 },
 "nbformat": 4,
 "nbformat_minor": 5
}
